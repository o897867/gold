{
 "cells": [
  {
   "cell_type": "code",
   "execution_count": 1,
   "metadata": {},
   "outputs": [],
   "source": [
    "import pandas as pd\n",
    "import numpy as np \n",
    "import seaborn as sns\n",
    "import matplotlib.pyplot as plt\n",
    "import matplotlib.pyplot as plt\n",
    "import matplotlib as mpl\n",
    "import matplotlib.font_manager as fm\n",
    "plt.rcParams['font.sans-serif'] = ['SimHei', 'Heiti TC', 'PingFang HK', 'Microsoft YaHei', 'SimSun']  # 优先级从左到右\n",
    "plt.rcParams['axes.unicode_minus'] = False    # 用来正常显示负号\n",
    "\n",
    "\n",
    "df = pd.read_csv('data/init.csv')\n",
    "\n",
    "df.set_index('timestamp', inplace=True)\n",
    "\n",
    "\n"
   ]
  },
  {
   "cell_type": "code",
   "execution_count": 2,
   "metadata": {},
   "outputs": [],
   "source": [
    "def calculate_atr(df, period=14):\n",
    "    # 计算三种价格范围\n",
    "    high_low = df['high'] - df['low']\n",
    "    high_close = np.abs(df['high'] - df['close'].shift())\n",
    "    low_close = np.abs(df['low'] - df['close'].shift())\n",
    "    \n",
    "    # 真实范围取最大值\n",
    "    ranges = pd.concat([high_low, high_close, low_close], axis=1)\n",
    "    true_range = ranges.max(axis=1)\n",
    "    \n",
    "    # 使用 Wilder 的平滑方法计算 ATR\n",
    "    atr = pd.Series(index=df.index, dtype=float)\n",
    "    atr.iloc[period-1] = true_range[:period].mean()  # 第一个ATR值使用简单平均\n",
    "    \n",
    "    # 使用 Wilder 的平滑方法计算后续值\n",
    "    for i in range(period, len(df)):\n",
    "        atr.iloc[i] = (atr.iloc[i-1] * (period-1) + true_range.iloc[i]) / period\n",
    "    \n",
    "    return atr\n",
    "\n",
    "# 计算 ATR\n",
    "df['ATR'] = calculate_atr(df)\n",
    "df['ATR_Pct'] = (df['ATR'] / df['close']) * 100"
   ]
  },
  {
   "cell_type": "markdown",
   "metadata": {},
   "source": [
    "## 简易支撑压力 ##\n"
   ]
  },
  {
   "cell_type": "code",
   "execution_count": 3,
   "metadata": {},
   "outputs": [],
   "source": [
    "# 支撑位：最近N根K线的最低价（动态窗口）\n",
    "def dynamic_support(data, window=30):\n",
    "    return data['low'].rolling(window).min()\n",
    "\n",
    "# 阻力位：最近N根K线的最高价（动态窗口）\n",
    "def dynamic_resistance(data, window=30):\n",
    "    return data['high'].rolling(window).max()\n",
    "\n",
    "# 加入波动率调整\n",
    "df['support'] = dynamic_support(df) * (1 - 0.1*df['ATR_Pct'])\n",
    "df['resistance'] = dynamic_resistance(df) * (1 + 0.1*df['ATR_Pct'])"
   ]
  },
  {
   "cell_type": "markdown",
   "metadata": {},
   "source": [
    "## 动量压缩比 ##"
   ]
  },
  {
   "cell_type": "code",
   "execution_count": 4,
   "metadata": {},
   "outputs": [],
   "source": [
    "def calculate_momentum_compression_ratio(dataframe, short_window, long_window):\n",
    "    dataframe['Short_Term_Momentum'] = dataframe['close'].diff(periods=short_window)\n",
    "    dataframe['Long_Term_Momentum'] = dataframe['close'].diff(periods=long_window)\n",
    "    dataframe['Momentum_Compression_Ratio'] = dataframe['Short_Term_Momentum'] / dataframe['Long_Term_Momentum']\n",
    "    return dataframe\n",
    "\n",
    "# 设置参数，例如短期5分钟，长期15分钟\n",
    "df = calculate_momentum_compression_ratio(df, short_window=5, long_window=15)\n"
   ]
  },
  {
   "cell_type": "markdown",
   "metadata": {},
   "source": [
    "## 弹性 ##"
   ]
  },
  {
   "cell_type": "code",
   "execution_count": 5,
   "metadata": {},
   "outputs": [],
   "source": [
    "def calculate_elasticity_coefficient(dataframe, window):\n",
    "    roll_max = dataframe['high'].rolling(window=window, min_periods=1).max()\n",
    "    roll_min = dataframe['low'].rolling(window=window, min_periods=1).min()\n",
    "    dataframe['Elasticity'] = (dataframe['close'] - roll_min) / (roll_max - roll_min)\n",
    "    return dataframe\n",
    "\n",
    "# 应用函数，例如使用14分钟作为窗口\n",
    "df = calculate_elasticity_coefficient(df, window=14)\n"
   ]
  },
  {
   "cell_type": "markdown",
   "metadata": {},
   "source": [
    "## 压力 ##"
   ]
  },
  {
   "cell_type": "code",
   "execution_count": 6,
   "metadata": {},
   "outputs": [],
   "source": [
    "def calculate_pressure_accumulation(dataframe):\n",
    "    # 根据收盘价是否高于开盘价来决定多空力量\n",
    "    dataframe['Pressure'] = np.where(dataframe['close'] > dataframe['open'],\n",
    "                                     dataframe['volume'], -dataframe['volume'])\n",
    "    # 累积多空力量\n",
    "    dataframe['Cumulative_Pressure'] = dataframe['Pressure'].cumsum()\n",
    "\n",
    "    return dataframe\n",
    "\n",
    "# 应用函数到实际数据\n",
    "df = calculate_pressure_accumulation(df)\n",
    "\n",
    "#\n"
   ]
  },
  {
   "cell_type": "markdown",
   "metadata": {},
   "source": [
    "## Hurst ##\n"
   ]
  },
  {
   "cell_type": "code",
   "execution_count": 8,
   "metadata": {},
   "outputs": [
    {
     "name": "stdout",
     "output_type": "stream",
     "text": [
      "Hurst指数: 0.5494223636011429\n",
      "分形维度: 1.4505776363988572\n"
     ]
    }
   ],
   "source": [
    "from hurst import compute_Hc\n",
    "\n",
    "def calculate_fractal_dimension(dataframe, window):\n",
    "    H, c, data = compute_Hc(dataframe['close'].values, kind='price', simplified=True)\n",
    "    D = 2 - H\n",
    "    return H, D\n",
    "\n",
    "# 计算示例数据集的Hurst指数和分形维度\n",
    "H, D = calculate_fractal_dimension(df, window=60)\n",
    "print(\"Hurst指数:\", H)\n",
    "print(\"分形维度:\", D)"
   ]
  },
  {
   "cell_type": "markdown",
   "metadata": {},
   "source": [
    "## RSI ##\n"
   ]
  },
  {
   "cell_type": "code",
   "execution_count": 10,
   "metadata": {},
   "outputs": [],
   "source": [
    "\n",
    "\n",
    "def calculate_rsi_wilder(df, period=14):\n",
    "    # 计算价格变化\n",
    "    delta = df['close'].diff()\n",
    "    \n",
    "    # 分别获取上涨和下跌\n",
    "    gain = delta.where(delta > 0, 0.0)\n",
    "    loss = -delta.where(delta < 0, 0.0)\n",
    "    \n",
    "    # Wilder's EMA 使用 alpha = 1/period\n",
    "    # 首次计算简单平均值\n",
    "    avg_gain = gain[:period].mean()\n",
    "    avg_loss = loss[:period].mean()\n",
    "    \n",
    "    # 准备存放 RSI 的序列\n",
    "    rsi_series = pd.Series(index=df.index, dtype=float)\n",
    "    \n",
    "    # 第一个 RSI 值\n",
    "    rsi_series.iloc[period] = 100 - (100 / (1 + (avg_gain / avg_loss)))\n",
    "    \n",
    "    # 使用 Wilder 的平滑方法计算后续值\n",
    "    for i in range(period + 1, len(df)):\n",
    "        avg_gain = ((avg_gain * (period - 1)) + gain.iloc[i]) / period\n",
    "        avg_loss = ((avg_loss * (period - 1)) + loss.iloc[i]) / period\n",
    "        if avg_loss != 0:\n",
    "            rs = avg_gain / avg_loss\n",
    "            rsi_series.iloc[i] = 100 - (100 / (1 + rs))\n",
    "        else:\n",
    "            rsi_series.iloc[i] = 100\n",
    "    \n",
    "    return rsi_series\n",
    "\n",
    "# 计算 Wilder's RSI\n",
    "\n",
    "df['RSI_Wilder'] = calculate_rsi_wilder(df)\n",
    "\n"
   ]
  },
  {
   "cell_type": "code",
   "execution_count": 11,
   "metadata": {},
   "outputs": [
    {
     "data": {
      "text/plain": [
       "Index(['open', 'high', 'low', 'close', 'volume', 'vwap', 'transactions', 'ATR',\n",
       "       'ATR_Pct', 'support', 'resistance', 'Short_Term_Momentum',\n",
       "       'Long_Term_Momentum', 'Momentum_Compression_Ratio', 'Elasticity',\n",
       "       'Pressure', 'Cumulative_Pressure', 'RSI_Wilder'],\n",
       "      dtype='object')"
      ]
     },
     "execution_count": 11,
     "metadata": {},
     "output_type": "execute_result"
    }
   ],
   "source": [
    "df.columns"
   ]
  }
 ],
 "metadata": {
  "kernelspec": {
   "display_name": "en1",
   "language": "python",
   "name": "python3"
  },
  "language_info": {
   "codemirror_mode": {
    "name": "ipython",
    "version": 3
   },
   "file_extension": ".py",
   "mimetype": "text/x-python",
   "name": "python",
   "nbconvert_exporter": "python",
   "pygments_lexer": "ipython3",
   "version": "3.9.20"
  }
 },
 "nbformat": 4,
 "nbformat_minor": 2
}
