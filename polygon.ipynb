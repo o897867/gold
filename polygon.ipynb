{
 "cells": [
  {
   "cell_type": "code",
   "execution_count": 9,
   "metadata": {},
   "outputs": [],
   "source": [
    "from polygon import RESTClient\n",
    "import pandas as pd"
   ]
  },
  {
   "cell_type": "code",
   "execution_count": 10,
   "metadata": {},
   "outputs": [
    {
     "ename": "AttributeError",
     "evalue": "'list' object has no attribute 'to_csv'",
     "output_type": "error",
     "traceback": [
      "\u001b[0;31m---------------------------------------------------------------------------\u001b[0m",
      "\u001b[0;31mAttributeError\u001b[0m                            Traceback (most recent call last)",
      "Cell \u001b[0;32mIn[10], line 1\u001b[0m\n\u001b[0;32m----> 1\u001b[0m \u001b[43maggs\u001b[49m\u001b[38;5;241;43m.\u001b[39;49m\u001b[43mto_csv\u001b[49m(\u001b[38;5;124m\"\u001b[39m\u001b[38;5;124maggs.csv\u001b[39m\u001b[38;5;124m\"\u001b[39m)\n",
      "\u001b[0;31mAttributeError\u001b[0m: 'list' object has no attribute 'to_csv'"
     ]
    }
   ],
   "source": []
  },
  {
   "cell_type": "code",
   "execution_count": 14,
   "metadata": {},
   "outputs": [],
   "source": [
    "import pandas as pd\n",
    "from datetime import datetime\n",
    "import pytz\n",
    "\n",
    "def aggs_to_df(aggs):\n",
    "    data = []\n",
    "    \n",
    "    for agg in aggs:\n",
    "        # 将毫秒时间戳除以1000转换为秒，然后转换为datetime\n",
    "        timestamp = pd.to_datetime(agg.timestamp, unit='ms')\n",
    "        \n",
    "        data.append({\n",
    "            'timestamp': timestamp,\n",
    "            'open': agg.open,\n",
    "            'high': agg.high,\n",
    "            'low': agg.low,\n",
    "            'close': agg.close,\n",
    "            'volume': agg.volume,\n",
    "            'vwap': agg.vwap,\n",
    "            'transactions': agg.transactions\n",
    "        })\n",
    "    \n",
    "    df = pd.DataFrame(data)\n",
    "    df.set_index('timestamp', inplace=True)\n",
    "    \n",
    "    return df\n",
    "df = aggs_to_df(aggs).to_csv('init.csv')"
   ]
  }
 ],
 "metadata": {
  "kernelspec": {
   "display_name": "en1",
   "language": "python",
   "name": "python3"
  },
  "language_info": {
   "codemirror_mode": {
    "name": "ipython",
    "version": 3
   },
   "file_extension": ".py",
   "mimetype": "text/x-python",
   "name": "python",
   "nbconvert_exporter": "python",
   "pygments_lexer": "ipython3",
   "version": "3.9.20"
  }
 },
 "nbformat": 4,
 "nbformat_minor": 2
}
