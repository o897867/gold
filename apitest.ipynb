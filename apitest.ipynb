{
 "cells": [
  {
   "cell_type": "code",
   "execution_count": null,
   "metadata": {},
   "outputs": [
    {
     "name": "stdout",
     "output_type": "stream",
     "text": [
      "{\"ret\":600,\"msg\":\"code invalid\",\"trace\":\"python_http_test1\"}\n"
     ]
    }
   ],
   "source": [
    "import time\n",
    "import requests\n",
    "import json\n",
    "\n",
    "# Extra headers\n",
    "test_headers = {\n",
    "    'Content-Type': 'application/json'\n",
    "}\n",
    "\n",
    "'''\n",
    "# Special Note:\n",
    "# GitHub: https://github.com/alltick/realtime-forex-crypto-stock-tick-finance-websocket-api\n",
    "# Token Application: https://alltick.co\n",
    "# Replace \"testtoken\" in the URL below with your own token\n",
    "# API addresses for forex, cryptocurrencies, and precious metals:\n",
    "# https://quote.tradeswitcher.com/quote-b-ws-api\n",
    "# Stock API address:\n",
    "# https://quote.tradeswitcher.com/quote-stock-b-ws-api\n",
    "Encode the following JSON and copy it to the \"query\" field of the HTTP query string\n",
    "{\"trace\": \"python_http_test1\", \"data\": {\"code\": \"700.HK\", \"kline_type\": 1, \"kline_timestamp_end\": 0, \"query_kline_num\": 2, \"adjust_type\": 0}}\n",
    "{\"trace\": \"python_http_test2\", \"data\": {\"symbol_list\": [{\"code\": \"700.HK\"}, {\"code\": \"UNH.US\"}]}}\n",
    "{\"trace\": \"python_http_test3\", \"data\": {\"symbol_list\": [{\"code\": \"700.HK\"}, {\"code\": \"UNH.US\"}]}}\n",
    "'''\n",
    "test_url1 = 'https://quote.tradeswitcher.com/quote-stock-b-api/kline?token=673a0e6c1d656cea9a7a7b341c76008f-c-app&query=%7B%22trace%22%3A%22python_http_test1%22%2C%22data%22%3A%7B%22code%22%3A%22AAPL.US%22%2C%22kline_type%22%3A1%2C%22kline_timestamp_end%22%3A0%2C%22query_kline_num%22%3A2%2C%22adjust_type%22%3A0%7D%7D'\n",
    "\n",
    "\n",
    "resp1 = requests.get(url=test_url1, headers=test_headers)\n",
    "\n",
    "# Decoded text returned by the request\n",
    "text1 = resp1.text\n",
    "print(text1)\n",
    "\n"
   ]
  }
 ],
 "metadata": {
  "kernelspec": {
   "display_name": "en1",
   "language": "python",
   "name": "python3"
  },
  "language_info": {
   "codemirror_mode": {
    "name": "ipython",
    "version": 3
   },
   "file_extension": ".py",
   "mimetype": "text/x-python",
   "name": "python",
   "nbconvert_exporter": "python",
   "pygments_lexer": "ipython3",
   "version": "3.9.20"
  }
 },
 "nbformat": 4,
 "nbformat_minor": 2
}
