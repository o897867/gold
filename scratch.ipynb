{
 "cells": [
  {
   "cell_type": "code",
   "execution_count": 4,
   "metadata": {},
   "outputs": [
    {
     "name": "stderr",
     "output_type": "stream",
     "text": [
      "$GC=F: possibly delisted; no price data found  (1m 2025-01-12 -> 2025-01-19) (Yahoo error = \"1m data not available for startTime=1736658000 and endTime=1737262800. The requested range must be within the last 30 days.\")\n"
     ]
    },
    {
     "name": "stdout",
     "output_type": "stream",
     "text": [
      "                                  Open         High          Low        Close  \\\n",
      "2025-01-20 00:00:00-05:00  2747.100098  2747.399902  2747.000000  2747.300049   \n",
      "2025-01-20 00:01:00-05:00  2747.399902  2747.399902  2747.199951  2747.199951   \n",
      "2025-01-20 00:02:00-05:00  2747.100098  2747.199951  2747.100098  2747.100098   \n",
      "2025-01-20 00:03:00-05:00  2747.199951  2747.399902  2747.000000  2747.199951   \n",
      "2025-01-20 00:04:00-05:00  2747.100098  2747.100098  2746.800049  2746.800049   \n",
      "\n",
      "                           Adj Close  Volume  Dividends  Stock Splits  \n",
      "2025-01-20 00:00:00-05:00        NaN     0.0        0.0           0.0  \n",
      "2025-01-20 00:01:00-05:00        NaN     9.0        0.0           0.0  \n",
      "2025-01-20 00:02:00-05:00        NaN     6.0        0.0           0.0  \n",
      "2025-01-20 00:03:00-05:00        NaN    21.0        0.0           0.0  \n",
      "2025-01-20 00:04:00-05:00        NaN    20.0        0.0           0.0  \n",
      "                                  Open         High          Low        Close  \\\n",
      "2025-02-10 23:54:00-05:00  2942.699951  2943.000000  2942.600098  2942.899902   \n",
      "2025-02-10 23:55:00-05:00  2942.800049  2942.800049  2941.399902  2941.500000   \n",
      "2025-02-10 23:56:00-05:00  2941.699951  2941.899902  2941.399902  2941.500000   \n",
      "2025-02-10 23:57:00-05:00  2941.699951  2941.899902  2941.699951  2941.699951   \n",
      "2025-02-10 23:58:00-05:00  2941.800049  2942.600098  2941.600098  2942.500000   \n",
      "\n",
      "                           Adj Close  Volume  Dividends  Stock Splits  \n",
      "2025-02-10 23:54:00-05:00        NaN    37.0        0.0           0.0  \n",
      "2025-02-10 23:55:00-05:00        NaN    81.0        0.0           0.0  \n",
      "2025-02-10 23:56:00-05:00        NaN   194.0        0.0           0.0  \n",
      "2025-02-10 23:57:00-05:00        NaN    14.0        0.0           0.0  \n",
      "2025-02-10 23:58:00-05:00        NaN    53.0        0.0           0.0  \n"
     ]
    }
   ],
   "source": [
    "import yfinance as yf\n",
    "import pandas as pd\n",
    "from datetime import datetime, timedelta\n",
    "\n",
    "def fetch_data(ticker, start_date, end_date):\n",
    "    stock = yf.Ticker(ticker)\n",
    "    data = stock.history(start=start_date, end=end_date, interval=\"1m\")\n",
    "    return data\n",
    "\n",
    "# 获取当前日期并计算一个月前的日期\n",
    "end_date = datetime.today()\n",
    "start_date = end_date - timedelta(days=30)\n",
    "\n",
    "# 生成日期序列，每8天划分一个区间\n",
    "dates = pd.date_range(start=start_date, end=end_date, freq='8D')\n",
    "\n",
    "# 分批请求数据\n",
    "data_frames = []\n",
    "for i in range(len(dates) - 1):\n",
    "    start = dates[i].strftime('%Y-%m-%d')\n",
    "    end = (dates[i + 1] - pd.Timedelta(days=1)).strftime('%Y-%m-%d')\n",
    "    df = fetch_data('GC=F', start, end)\n",
    "    data_frames.append(df)\n",
    "\n",
    "# 添加最后一个区间\n",
    "if dates[-1] < end_date:\n",
    "    start = dates[-1].strftime('%Y-%m-%d')\n",
    "    end = end_date.strftime('%Y-%m-%d')\n",
    "    df = fetch_data('GC=F', start, end)\n",
    "    data_frames.append(df)\n",
    "\n",
    "# 拼接数据\n",
    "final_data = pd.concat(data_frames)\n",
    "\n",
    "# 显示数据\n",
    "print(final_data.head())\n",
    "print(final_data.tail())\n"
   ]
  },
  {
   "cell_type": "code",
   "execution_count": 5,
   "metadata": {},
   "outputs": [
    {
     "name": "stderr",
     "output_type": "stream",
     "text": [
      "$AAPL: possibly delisted; no price data found  (1m 2024-12-20 -> 2024-12-27) (Yahoo error = \"1m data not available for startTime=1734670800 and endTime=1735275600. The requested range must be within the last 30 days.\")\n",
      "$AAPL: possibly delisted; no price data found  (1m 2024-12-28 -> 2025-01-04) (Yahoo error = \"1m data not available for startTime=1735362000 and endTime=1735966800. The requested range must be within the last 30 days.\")\n",
      "$AAPL: possibly delisted; no price data found  (1m 2025-01-05 -> 2025-01-12) (Yahoo error = \"1m data not available for startTime=1736053200 and endTime=1736658000. The requested range must be within the last 30 days.\")\n"
     ]
    },
    {
     "name": "stdout",
     "output_type": "stream",
     "text": [
      "                                 Open        High         Low       Close  \\\n",
      "2025-01-13 09:30:00-05:00  233.500000  233.589996  232.250000  232.729996   \n",
      "2025-01-13 09:31:00-05:00  232.669998  232.910004  231.699997  231.860001   \n",
      "2025-01-13 09:32:00-05:00  231.880005  232.259995  231.766006  231.800003   \n",
      "2025-01-13 09:33:00-05:00  231.779999  232.080002  231.610107  231.649994   \n",
      "2025-01-13 09:34:00-05:00  231.657898  231.697800  231.100006  231.270004   \n",
      "\n",
      "                           Adj Close     Volume  Dividends  Stock Splits  \n",
      "2025-01-13 09:30:00-05:00        NaN  2404414.0        0.0           0.0  \n",
      "2025-01-13 09:31:00-05:00        NaN   383173.0        0.0           0.0  \n",
      "2025-01-13 09:32:00-05:00        NaN   335328.0        0.0           0.0  \n",
      "2025-01-13 09:33:00-05:00        NaN   278927.0        0.0           0.0  \n",
      "2025-01-13 09:34:00-05:00        NaN   348437.0        0.0           0.0  \n",
      "                                 Open        High         Low       Close  \\\n",
      "2025-01-17 15:55:00-05:00  229.720001  229.740005  229.339996  229.720001   \n",
      "2025-01-17 15:56:00-05:00  229.729996  229.779999  229.529999  229.750000   \n",
      "2025-01-17 15:57:00-05:00  229.699997  229.845901  229.615005  229.770096   \n",
      "2025-01-17 15:58:00-05:00  229.779999  229.830002  229.710007  229.720001   \n",
      "2025-01-17 15:59:00-05:00  229.715393  230.020004  229.715393  229.990005   \n",
      "\n",
      "                           Adj Close    Volume  Dividends  Stock Splits  \n",
      "2025-01-17 15:55:00-05:00        NaN  683541.0        0.0           0.0  \n",
      "2025-01-17 15:56:00-05:00        NaN  191803.0        0.0           0.0  \n",
      "2025-01-17 15:57:00-05:00        NaN  213466.0        0.0           0.0  \n",
      "2025-01-17 15:58:00-05:00        NaN  300266.0        0.0           0.0  \n",
      "2025-01-17 15:59:00-05:00        NaN  832055.0        0.0           0.0  \n"
     ]
    }
   ],
   "source": [
    "import yfinance as yf\n",
    "import pandas as pd\n",
    "from datetime import datetime, timedelta\n",
    "\n",
    "def fetch_data(ticker, start_date, end_date):\n",
    "    stock = yf.Ticker(ticker)\n",
    "    data = stock.history(start=start_date, end=end_date, interval=\"1m\")\n",
    "    return data\n",
    "\n",
    "# 假设已知的最早获取日期\n",
    "latest_start_date = datetime.strptime('2025-01-20', '%Y-%m-%d')\n",
    "\n",
    "# 计算新的日期范围\n",
    "new_end_date = latest_start_date - timedelta(days=1)  # 从已知日期的前一天开始\n",
    "new_start_date = new_end_date - timedelta(days=30)    # 再往前推一个月\n",
    "\n",
    "# 生成新的日期序列，每8天划分一个区间\n",
    "new_dates = pd.date_range(start=new_start_date, end=new_end_date, freq='8D')\n",
    "\n",
    "# 分批请求数据\n",
    "new_data_frames = []\n",
    "for i in range(len(new_dates) - 1):\n",
    "    start = new_dates[i].strftime('%Y-%m-%d')\n",
    "    end = (new_dates[i + 1] - pd.Timedelta(days=1)).strftime('%Y-%m-%d')\n",
    "    df = fetch_data('AAPL', start, end)\n",
    "    new_data_frames.append(df)\n",
    "\n",
    "# 添加最后一个区间\n",
    "if new_dates[-1] < new_end_date:\n",
    "    start = new_dates[-1].strftime('%Y-%m-%d')\n",
    "    end = new_end_date.strftime('%Y-%m-%d')\n",
    "    df = fetch_data('AAPL', start, end)\n",
    "    new_data_frames.append(df)\n",
    "\n",
    "# 拼接数据\n",
    "final_new_data = pd.concat(new_data_frames)\n",
    "\n",
    "# 显示数据\n",
    "print(final_new_data.head())\n",
    "print(final_new_data.tail())\n"
   ]
  },
  {
   "cell_type": "code",
   "execution_count": 10,
   "metadata": {},
   "outputs": [],
   "source": [
    "merged_data.to_csv('113210min.csv', index=False)"
   ]
  }
 ],
 "metadata": {
  "kernelspec": {
   "display_name": "en1",
   "language": "python",
   "name": "python3"
  },
  "language_info": {
   "codemirror_mode": {
    "name": "ipython",
    "version": 3
   },
   "file_extension": ".py",
   "mimetype": "text/x-python",
   "name": "python",
   "nbconvert_exporter": "python",
   "pygments_lexer": "ipython3",
   "version": "3.9.20"
  }
 },
 "nbformat": 4,
 "nbformat_minor": 2
}
