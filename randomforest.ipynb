{
 "cells": [
  {
   "cell_type": "code",
   "execution_count": null,
   "metadata": {},
   "outputs": [],
   "source": [
    "import pandas as pd\n",
    "main_df = pd.read_csv('data/main_df.csv')"
   ]
  },
  {
   "cell_type": "code",
   "execution_count": null,
   "metadata": {},
   "outputs": [],
   "source": [
    "from sklearn.ensemble import RandomForestRegressor\n",
    "from sklearn.model_selection import train_test_split\n",
    "from sklearn.metrics import mean_squared_error\n",
    "import numpy as np\n"
   ]
  },
  {
   "cell_type": "code",
   "execution_count": null,
   "metadata": {},
   "outputs": [],
   "source": [
    "# 定义特征集（排除close）\n",
    "features = [\n",
    "    'open', 'high', 'low', 'vwap',  # 价格特征（排除close）\n",
    "    'volume', 'transactions',        # 交易量特征\n",
    "    \n",
    "    # 技术指标\n",
    "    'RSI', 'RSI_Wilder',\n",
    "    'BB_middle', 'BB_upper', 'BB_lower',\n",
    "    'ATR', 'ATR_Pct',\n",
    "    'volatility', 'log_returns',\n",
    "    \n",
    "    # 动量和趋势\n",
    "    'price_accel', \n",
    "    'momentum_5', 'momentum_15', 'momentum_ratio',\n",
    "    \n",
    "    # 其他指标\n",
    "    'high_break', 'low_break',\n",
    "    'fractal_vol', 'vol_cluster',\n",
    "    'mf_divergence', 'volume_conf',\n",
    "    'avg_trade_size', 'large_trade',\n",
    "    'trade_freq_z'\n",
    "]\n",
    "\n",
    "# 准备特征矩阵X和目标变量Y\n",
    "X = main_df[features].copy()\n",
    "y = main_df['close'].copy()\n",
    "\n",
    "# 检查数据\n",
    "print(\"特征矩阵形状:\", X.shape)\n",
    "print(\"目标变量形状:\", y.shape)\n",
    "\n",
    "# 检查缺失值\n",
    "print(\"\\n特征中的缺失值:\")\n",
    "null_counts = X.isnull().sum()\n",
    "print(null_counts[null_counts > 0])\n",
    "\n",
    "print(\"\\n目标变量中的缺失值:\")\n",
    "print(y.isnull().sum())\n",
    "\n",
    "# 显示基本统计信息\n",
    "print(\"\\n目标变量(close)的基本统计信息:\")\n",
    "print(y.describe())\n",
    "\n",
    "# 保存特征数量信息\n",
    "print(f\"\\n总特征数: {len(features)}\")"
   ]
  },
  {
   "cell_type": "code",
   "execution_count": 4,
   "metadata": {},
   "outputs": [
    {
     "name": "stdout",
     "output_type": "stream",
     "text": [
      "Mean Squared Error: 0.01867968594068356\n"
     ]
    }
   ],
   "source": [
    "X_train, X_test, y_train, y_test = train_test_split(X, y, test_size=0.2, random_state=42)\n",
    "\n",
    "# 初始化随机森林模型\n",
    "rf = RandomForestRegressor(n_estimators=100, random_state=42)\n",
    "\n",
    "# 训练模型\n",
    "rf.fit(X_train, y_train)\n",
    "\n",
    "# 预测\n",
    "predictions = rf.predict(X_test)\n",
    "\n",
    "# 计算MSE\n",
    "mse = mean_squared_error(y_test, predictions)\n",
    "print(\"Mean Squared Error:\", mse)\n"
   ]
  },
  {
   "cell_type": "code",
   "execution_count": 6,
   "metadata": {},
   "outputs": [
    {
     "name": "stdout",
     "output_type": "stream",
     "text": [
      "预测的未来30个时间点的数据： [np.float64(2917.9318000000003), np.float64(2581.306899999999), np.float64(2571.084), np.float64(2541.2248999999997), np.float64(2540.0756999999994), np.float64(2818.0796999999984), np.float64(2844.966899999999), np.float64(2896.0524999999993), np.float64(2581.2404999999994), np.float64(2571.0002000000004), np.float64(2541.251499999999), np.float64(2540.064699999999), np.float64(2540.052799999999), np.float64(2540.0122999999994), np.float64(2540.089599999999), np.float64(2540.0645999999992), np.float64(2540.0645999999992), np.float64(2540.0018), np.float64(2540.0926), np.float64(2539.8624), np.float64(2539.8215999999993), np.float64(2539.9964999999997), np.float64(2540.2093999999997), np.float64(2540.2513), np.float64(2540.0015), np.float64(2818.144399999999), np.float64(2585.469199999999), np.float64(2587.8855999999987), np.float64(2556.9954999999995), np.float64(2549.814300000001)]\n"
     ]
    }
   ],
   "source": [
    "\n",
    "\n",
    "# 假设 X 是包含所有训练特征的 DataFrame\n",
    "last_features_df = pd.DataFrame(X.iloc[-1]).T  # 转换最后一行为 DataFrame，保持列名\n",
    "\n",
    "predictions = []\n",
    "for _ in range(30):\n",
    "    # 使用 DataFrame 进行预测以保持特征名称一致性\n",
    "    next_value = rf.predict(last_features_df)\n",
    "    \n",
    "    # 取出预测结果的第一个元素\n",
    "    next_value_scalar = next_value[0]\n",
    "    \n",
    "    # 更新特征 DataFrame 以用于下一个预测\n",
    "    # 这里需要适当调整以匹配您的具体特征结构\n",
    "    new_features = np.roll(last_features_df.values, -1)\n",
    "    new_features[0, -1] = next_value_scalar\n",
    "    last_features_df = pd.DataFrame(new_features, columns=last_features_df.columns)\n",
    "\n",
    "    # 保存预测结果\n",
    "    predictions.append(next_value_scalar)\n",
    "\n",
    "print(\"预测的未来30个时间点的数据：\", predictions)"
   ]
  }
 ],
 "metadata": {
  "kernelspec": {
   "display_name": "en1",
   "language": "python",
   "name": "python3"
  },
  "language_info": {
   "codemirror_mode": {
    "name": "ipython",
    "version": 3
   },
   "file_extension": ".py",
   "mimetype": "text/x-python",
   "name": "python",
   "nbconvert_exporter": "python",
   "pygments_lexer": "ipython3",
   "version": "3.9.20"
  }
 },
 "nbformat": 4,
 "nbformat_minor": 2
}
